{
 "cells": [
  {
   "cell_type": "markdown",
   "id": "5237f387-c066-4a7b-95a6-147f6927d6ca",
   "metadata": {},
   "source": [
    "## ME121: A Day with the UR3\n",
    "This will contain all sorts of interesting things\n",
    "\n",
    "### Step 1: Starting ROS on the computer (only I do this)"
   ]
  },
  {
   "cell_type": "code",
   "execution_count": null,
   "id": "c54d66f7-377f-4daf-af1e-1d1ca9c47e48",
   "metadata": {},
   "outputs": [],
   "source": [
    "launch_ur --ip \"130.64.17.95\"\n",
    "launch_gripper --ip \"130.64.17.95\""
   ]
  },
  {
   "cell_type": "markdown",
   "id": "7c0a964f-948a-42a0-b7f6-b0c0225b127c",
   "metadata": {},
   "source": [
    "Next - try to look for topics"
   ]
  },
  {
   "cell_type": "code",
   "execution_count": 1,
   "id": "68862900-3910-4ca5-b990-a372e833029d",
   "metadata": {},
   "outputs": [
    {
     "name": "stdout",
     "output_type": "stream",
     "text": [
      "zsh:1: command not found: ros2\n"
     ]
    }
   ],
   "source": [
    "!ros2 topic list"
   ]
  },
  {
   "cell_type": "markdown",
   "id": "9fed9815-dbe4-4418-b12d-26fa39bfdc34",
   "metadata": {},
   "source": [
    "You should see things like joints etc.  You can subscribe to a joint with\n"
   ]
  },
  {
   "cell_type": "code",
   "execution_count": null,
   "id": "66ea9abe-f4ad-47a3-aeb1-c33418870974",
   "metadata": {},
   "outputs": [],
   "source": [
    "!ros2 topic echo /joint_states"
   ]
  },
  {
   "cell_type": "markdown",
   "id": "3b64e25d-c45d-4c82-a203-cb1fd9152977",
   "metadata": {},
   "source": [
    "<img src=https://raw.githubusercontent.com/tuftsceeo/Universal-Robots-ROS2-CEEO/6d0b88f86543e63ce5a9f9999cb61271c0f339b7/examples/img/ur3e_diagram.png alt=\"Alt Text\" width = 100px>"
   ]
  },
  {
   "cell_type": "code",
   "execution_count": null,
   "id": "522e7ced-dfd0-45f3-ae7f-961e8d2086a3",
   "metadata": {},
   "outputs": [],
   "source": []
  }
 ],
 "metadata": {
  "kernelspec": {
   "display_name": "Python 3 (ipykernel)",
   "language": "python",
   "name": "python3"
  },
  "language_info": {
   "codemirror_mode": {
    "name": "ipython",
    "version": 3
   },
   "file_extension": ".py",
   "mimetype": "text/x-python",
   "name": "python",
   "nbconvert_exporter": "python",
   "pygments_lexer": "ipython3",
   "version": "3.13.0"
  }
 },
 "nbformat": 4,
 "nbformat_minor": 5
}
