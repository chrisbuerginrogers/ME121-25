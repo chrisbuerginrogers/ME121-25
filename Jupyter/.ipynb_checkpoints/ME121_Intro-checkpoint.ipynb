{
 "cells": [
  {
   "cell_type": "markdown",
   "id": "5237f387-c066-4a7b-95a6-147f6927d6ca",
   "metadata": {},
   "source": [
    "# ME121: A Day with the UR3\n",
    "This will someday contain all sorts of interesting things.  For now it will help you get started talking to the UR3 arm.  Here are all the different motor orientations.\n"
   ]
  },
  {
   "cell_type": "markdown",
   "id": "3b64e25d-c45d-4c82-a203-cb1fd9152977",
   "metadata": {},
   "source": [
    "<img src=https://raw.githubusercontent.com/tuftsceeo/Universal-Robots-ROS2-CEEO/6d0b88f86543e63ce5a9f9999cb61271c0f339b7/examples/img/ur3e_diagram.png alt=\"Alt Text\" width = 300px>"
   ]
  },
  {
   "cell_type": "markdown",
   "id": "09571359-8b2f-4d82-a33a-18ecce915063",
   "metadata": {},
   "source": [
    "### Step 1: Starting ROS on the computer (only I do this)"
   ]
  },
  {
   "cell_type": "markdown",
   "id": "4d09116b-35c6-427f-970d-bba585d01ea8",
   "metadata": {},
   "source": [
    "Someone has to start the UR driver and the gripper driver running on the Dell server.  I will do this, running these two commands."
   ]
  },
  {
   "cell_type": "code",
   "execution_count": null,
   "id": "c54d66f7-377f-4daf-af1e-1d1ca9c47e48",
   "metadata": {},
   "outputs": [],
   "source": [
    "launch_ur --ip \"130.64.17.95\"\n",
    "launch_gripper --ip \"130.64.17.95\""
   ]
  },
  {
   "cell_type": "markdown",
   "id": "c1e61e81-956f-4f1c-b41d-4c8ca53edd11",
   "metadata": {},
   "source": [
    "## Step 2: Configuring your UR Arm Account\n"
   ]
  },
  {
   "cell_type": "markdown",
   "id": "45599dff-8c5d-4ad4-9a20-27ea7c41f064",
   "metadata": {},
   "source": [
    "The first time you do anything you need to configure your UR Arm account properly.  That means after logging into 130.64.17.122, you will need to load some libraries.\n",
    "1. Clone this repository to your local machine:\n",
    "```bash\n",
    "git clone https://github.com/tuftsceeo/Universal-Robots-ROS2-CEEO\n",
    "```\n",
    "2. Install the myur python package and all dependencies:\n",
    "```bash\n",
    "cd Universal-Robots-ROS2-CEEO\n",
    "pip install -e .\n",
    "```\n",
    "3. Add the install directory to your shell's PATH list:\n",
    "```bash\n",
    "export PATH=\"$HOME/.local/bin:$PATH\"\n",
    "source ~/.bashrc\n",
    "```\n",
    "4. and then go to the top folder and clone our class\n",
    "```bash\n",
    "git clone https://github.com/chrisbuerginrogers/ME121-25\n",
    "```"
   ]
  },
  {
   "cell_type": "markdown",
   "id": "19d7063d-df7c-4698-bf76-8534316c0460",
   "metadata": {},
   "source": [
    "### Step 3: Testing your configuration\n",
    "You can test with some simple terminal commands (or in a Notebook page with the exclamation point at the beginning)"
   ]
  },
  {
   "cell_type": "code",
   "execution_count": null,
   "id": "68862900-3910-4ca5-b990-a372e833029d",
   "metadata": {},
   "outputs": [],
   "source": [
    "!ros2 topic list"
   ]
  },
  {
   "cell_type": "markdown",
   "id": "9fed9815-dbe4-4418-b12d-26fa39bfdc34",
   "metadata": {},
   "source": [
    "You should see things like joints etc.  You can subscribe to a joint with\n"
   ]
  },
  {
   "cell_type": "code",
   "execution_count": null,
   "id": "66ea9abe-f4ad-47a3-aeb1-c33418870974",
   "metadata": {},
   "outputs": [],
   "source": [
    "!ros2 topic echo /joint_states --once"
   ]
  },
  {
   "cell_type": "markdown",
   "id": "e23521f8-9966-436a-8677-23aeef0a6cf8",
   "metadata": {},
   "source": [
    "If you want to read them using python, you can use the MyUR3e module as follows:"
   ]
  },
  {
   "cell_type": "code",
   "execution_count": null,
   "id": "a46b756c-e197-43dd-959d-ea0f2b592e13",
   "metadata": {},
   "outputs": [],
   "source": [
    "# Import MyUR3e class\n",
    "from myur import MyUR3e\n",
    "\n",
    "# Create MyUR3e instance\n",
    "robot = MyUR3e()\n",
    "\n",
    "# Get live data from the robot\n",
    "print(robot.read_joints_pos()) # Joint Positions\n",
    "print(robot.read_global_pos()) # Global End Effector Position\n",
    "print(robot.read_force()) # End Effector Force\n",
    "print(robot.read_gripper()) # Gripper Position, Speed, Force\n"
   ]
  },
  {
   "cell_type": "markdown",
   "id": "dcb34026-2e88-438d-8b00-1cba7ec87145",
   "metadata": {},
   "source": [
    "You should have seen the positions, velocities, and torques on all the joints.  Next you can open or close the gripper with:"
   ]
  },
  {
   "cell_type": "code",
   "execution_count": null,
   "id": "d635eb0f-3fa4-481c-971c-d3575e2b9982",
   "metadata": {},
   "outputs": [],
   "source": [
    "# Open/Close the gripper\n",
    "robot.move_gripper(100) # 100 = Close, 0 = Open"
   ]
  },
  {
   "cell_type": "markdown",
   "id": "517d1f44-f149-4482-a382-9d3cc0d13ea0",
   "metadata": {},
   "source": [
    "And finally you can move the joints with the move joints command.  this will moce the arm to these 6 angles over the course fo 5 seconds (and the angles are in radians, you want the arm to move, not just the simulation, and you will wait until it gets there - with no interpolation)."
   ]
  },
  {
   "cell_type": "code",
   "execution_count": null,
   "id": "76a84a45-9900-42fe-9e9f-7d3d1c6fffce",
   "metadata": {},
   "outputs": [],
   "source": [
    "robot.move_joints(\n",
    "                [0.0,-0.1,-1.5,-0.5,0.1,0.1],\n",
    "                time=5,\n",
    "                degrees=False,\n",
    "                vis_only=False,\n",
    "                wait=True,\n",
    "                interp=None,\n",
    ")"
   ]
  },
  {
   "cell_type": "markdown",
   "id": "78f8c320-5524-4cb5-8297-afef8f30425d",
   "metadata": {},
   "source": [
    "### Step 4: Using ROS2"
   ]
  },
  {
   "cell_type": "markdown",
   "id": "b4113fb8-9b58-4930-b8a6-bf7412ceb427",
   "metadata": {},
   "source": [
    "\n",
    "|Page|Description|\n",
    "|--------|-----------|\n",
    "|[Getting Started with ROS](Activities/110-ROS.ipynb)|A walk-through on what ROS is and how to get started with publishers and subscribers|\n",
    "|[Publishing](Activities/111-ROS_Publisher.ipynb)|Tell the robot to do something|\n",
    "|[Subscribing](Activities/112-ROS_Subscriber.ipynb)|Listen to the robot|\n",
    "|[Services](Activities/113-ROS_Service_setup.ipynb)|Ask the robot for some information|\n",
    "|[Actions](Activities/115-ROS_action_definition.ipynb)|Ask the robot to do something|\n",
    "|[Serial Control over ROS](Activities/210-ROS_Serial_Complete.ipynb)|This is a code I wrote that runs a ROS server on your computer that allows others to talk over your serial port|\n",
    "|[Controlling the iRobot Create](Activities/108-Writing_ROS_Code.ipynb)|Write some Python code|\n",
    "|[Liam and Aengus' page](https://github.com/tuftsceeo/Universal-Robots-ROS2-CEEO?tab=readme-ov-file)|Everything UR arm|\n"
   ]
  },
  {
   "cell_type": "code",
   "execution_count": null,
   "id": "a3da3018-7f60-4f3b-a8cb-18b727bd2860",
   "metadata": {},
   "outputs": [],
   "source": []
  }
 ],
 "metadata": {
  "kernelspec": {
   "display_name": "Python 3 (ipykernel)",
   "language": "python",
   "name": "python3"
  },
  "language_info": {
   "codemirror_mode": {
    "name": "ipython",
    "version": 3
   },
   "file_extension": ".py",
   "mimetype": "text/x-python",
   "name": "python",
   "nbconvert_exporter": "python",
   "pygments_lexer": "ipython3",
   "version": "3.13.0"
  }
 },
 "nbformat": 4,
 "nbformat_minor": 5
}
