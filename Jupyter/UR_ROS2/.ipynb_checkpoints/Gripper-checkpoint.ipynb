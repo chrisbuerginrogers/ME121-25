{
 "cells": [
  {
   "cell_type": "markdown",
   "id": "4e401754-dbdc-4fb6-a790-5031849dca74",
   "metadata": {},
   "source": [
    "# UR Arm ROS2 Control"
   ]
  },
  {
   "cell_type": "markdown",
   "id": "3fdd446b-c1d4-433c-bdb8-38572bc2b171",
   "metadata": {},
   "source": [
    "## Gripper Control"
   ]
  },
  {
   "cell_type": "markdown",
   "id": "e9e0585a-9fa2-409d-89de-90a38f865047",
   "metadata": {},
   "source": [
    "First you need to save your Gripper Module.  The Gripper tells ts current state on the topic \"/gripper/state\" and you can set its desired goal by publishing to \"/gripper/control\""
   ]
  },
  {
   "cell_type": "code",
   "execution_count": null,
   "id": "6c8e7493-ad14-461d-8acf-6ff81402b4ea",
   "metadata": {},
   "outputs": [],
   "source": [
    "%%writefile Gripper.py\n",
    "\n",
    "import rclpy\n",
    "from rclpy.node import Node\n",
    "from std_msgs.msg import Int32MultiArray\n",
    "\n",
    "import time\n",
    "\n",
    "class Gripper(Node):\n",
    "    \"\"\"\n",
    "    Subscribe and publish to Gripper topics.\n",
    "    \"\"\"\n",
    "\n",
    "    def __init__(self):\n",
    "        super().__init__(\"gripper_client\")\n",
    "        self.subscription = self.create_subscription(Int32MultiArray,\"/gripper/state\",self.gripper_callback, 10)\n",
    "        self.publisher_ = self.create_publisher(Int32MultiArray, \"/gripper/control\", 10)\n",
    "        self.states = None\n",
    "\n",
    "    def gripper_callback(self, msg):\n",
    "        self.states = msg.data  # get final state\n",
    "        self.done = True\n",
    "\n",
    "    def read(self):\n",
    "        self.spin_and_wait()\n",
    "        return list(self.states[0:3])\n",
    "\n",
    "    def move_once(self, goal = [255,64,1]):  # [position 0-255, speed 0-255, force 0-255]\n",
    "        msg = Int32MultiArray()\n",
    "        msg.data = goal\n",
    "        self.publisher_.publish(msg)\n",
    "\n",
    "    def spin_and_wait(self):\n",
    "        self.done = False\n",
    "        rclpy.spin_once(self)\n",
    "        while not self.done:\n",
    "            time.sleep(1)\n",
    "        self.done = False\n"
   ]
  },
  {
   "cell_type": "markdown",
   "id": "490b31aa-34f4-4ce6-bbf2-ea2f8a74be94",
   "metadata": {},
   "source": [
    "And a sample code"
   ]
  },
  {
   "cell_type": "code",
   "execution_count": null,
   "id": "52c65ae7-8bd4-4d94-81da-4002ee47acb7",
   "metadata": {},
   "outputs": [],
   "source": [
    "import rclpy\n",
    "from Gripper import Gripper\n",
    "import time\n",
    "\n",
    "rclpy.init()\n",
    "g = Gripper()\n",
    "print(g.read())\n",
    "goal = [190,64,1] # [position 0-255, speed 0-255, force 0-255]\n",
    "g.move_once(goal)\n",
    "while not g.read() == goal:\n",
    "    time.sleep(1)\n",
    "rclpy.shutdown()"
   ]
  }
 ],
 "metadata": {
  "kernelspec": {
   "display_name": "Python 3 (ipykernel)",
   "language": "python",
   "name": "python3"
  },
  "language_info": {
   "codemirror_mode": {
    "name": "ipython",
    "version": 3
   },
   "file_extension": ".py",
   "mimetype": "text/x-python",
   "name": "python",
   "nbconvert_exporter": "python",
   "pygments_lexer": "ipython3",
   "version": "3.13.0"
  }
 },
 "nbformat": 4,
 "nbformat_minor": 5
}
