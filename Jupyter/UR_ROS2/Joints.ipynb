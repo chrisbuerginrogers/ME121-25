{
 "cells": [
  {
   "cell_type": "markdown",
   "id": "4e401754-dbdc-4fb6-a790-5031849dca74",
   "metadata": {},
   "source": [
    "# UR Arm ROS2 Control"
   ]
  },
  {
   "cell_type": "markdown",
   "id": "3fdd446b-c1d4-433c-bdb8-38572bc2b171",
   "metadata": {},
   "source": [
    "## Joint Control"
   ]
  },
  {
   "cell_type": "markdown",
   "id": "e9e0585a-9fa2-409d-89de-90a38f865047",
   "metadata": {},
   "source": [
    "First you need to save your Joints Module.  The UR tells its current joint states on the topic \"joint_states\" and lets you set the angles with the action \"/follow_joint_trajectory\"."
   ]
  },
  {
   "cell_type": "code",
   "execution_count": null,
   "id": "6c8e7493-ad14-461d-8acf-6ff81402b4ea",
   "metadata": {},
   "outputs": [],
   "source": [
    "%%writefile Joints.py\n",
    "\n",
    "import rclpy\n",
    "from rclpy.node import Node\n",
    "from rclpy.action import ActionClient\n",
    "from trajectory_msgs.msg import JointTrajectory, JointTrajectoryPoint\n",
    "from control_msgs.action import FollowJointTrajectory\n",
    "import math\n",
    "\n",
    "class Joints(rclpy.node.Node):\n",
    "    \"\"\"\n",
    "    Subscribe to the joint_states topic.\n",
    "    \"\"\"\n",
    "\n",
    "    def __init__(self):\n",
    "        super().__init__(\"joint_state_subscriber\")\n",
    "        self.subscription = self.create_subscription(JointState, \"joint_states\", self.joints_callback, 10)\n",
    "        self._action_client = ActionClient(self, FollowJointTrajectory, \"scaled_joint_trajectory_controller/follow_joint_trajectory\")\n",
    "        if not self._action_client.wait_for_server(timeout_sec=10):\n",
    "            rclpy.shutdown()\n",
    "            raise RuntimeError(\n",
    "                \"Action server not available after waiting for 10 seconds. Check ROS UR Driver.\"\n",
    "            )\n",
    "        self.states = None\n",
    "        self.done = False\n",
    "\n",
    "    def joints_callback(self, msg):\n",
    "        self.states = {\"name\": msg.name, \"position\": msg.position, \"velocity\": msg.velocity, \"effort\": msg.effort}\n",
    "        #    \"name\": [msg.name[5]] + msg.name[0:5],\n",
    "        #    \"position\": [msg.position[5]] + msg.position[0:5].tolist(),\n",
    "        #    \"velocity\": [msg.velocity[5]] + msg.velocity[0:5].tolist(),\n",
    "        #    \"effort\": [msg.effort[5]] + msg.effort[0:5].tolist(),}\n",
    "\n",
    "    def read(self):\n",
    "        return self.states\n",
    "\n",
    "    def move_once(self, joint_positions, time = 5, degrees = True):\n",
    "        trajectory = JointTrajectory()\n",
    "        trajectory.joint_names = [\"shoulder_pan_joint\",\"shoulder_lift_joint\",\"elbow_joint\",\"wrist_1_joint\",\"wrist_2_joint\",\"wrist_3_joint\"]\n",
    "        trajectory.points.append(set_waypoint(joint_positions, time, degrees))\n",
    "        self.move_arm(trajectory)\n",
    "\n",
    "    def move_many(self, q_matrix, time, degrees = True):\n",
    "        trajectory = JointTrajectory()\n",
    "        trajectory.joint_names = [\"shoulder_pan_joint\",\"shoulder_lift_joint\",\"elbow_joint\",\"wrist_1_joint\",\"wrist_2_joint\",\"wrist_3_joint\"]\n",
    "        for q in q_matrix:\n",
    "            next_time =  time + i * (time / (len(q_matrix) - 1))\n",
    "            trajectory.points.append(set_waypoint(q, next_time, degrees))\n",
    "        self.move_arm(trajectory)\n",
    "\n",
    "    def set_waypoint(self, joint_positions, time = 5, degrees = True)::\n",
    "        point = JointTrajectoryPoint\n",
    "        if degrees: \n",
    "            joint_positions = [math.to_radians(q) for q in joint_positions]\n",
    "        point.positions =  joint_positions\n",
    "        point.time_from_start = Duration(sec = int(time), nanosec = int(time % 1 * 1000000000))\n",
    "        return point\n",
    "        \n",
    "    def move_arm(self, trajectory):\n",
    "        goal_msg = FollowJointTrajectory.Goal()\n",
    "        goal_msg.trajectory = trajectory\n",
    "\n",
    "        self._action_client.wait_for_server()\n",
    "        self._set_goal = self._action_client.send_goal_async(goal_msg)\n",
    "        self._set_goal.add_done_callback(self.goal_request_callback)\n",
    "        self.get_logger().debug(f\"Sent trajectory {trajectory}\")\n",
    "        \n",
    "    def goal_request_callback(self, future): \n",
    "        '''\n",
    "        run this when the action server responds with either go or no-go and set up another callback for when the action is done\n",
    "        '''\n",
    "        goal_handle = future.result()\n",
    "        if not goal_handle.accepted:\n",
    "            self.get_logger().info('Goal rejected :(')\n",
    "            self.done = True\n",
    "            return\n",
    "        self.get_logger().info('Goal accepted :)')\n",
    "        # goal accepted - now wait for it to be executed\n",
    "        self._when_done = goal_handle.get_result_async()\n",
    "        self._when_done.add_done_callback(self.get_result_callback)\n",
    "\n",
    "    def get_result_callback(self, future):\n",
    "        '''\n",
    "        run this when the action is done\n",
    "        '''        \n",
    "        result = future.result().result\n",
    "        self.get_logger().info('Result: {0}'.format(result))\n",
    "        self.done = True\n",
    "        \n",
    "    def stop(self):\n",
    "        positions = self.read()\n",
    "        point = JointTrajectoryPoint()\n",
    "        point.positions = positions\n",
    "        point.time_from_start = Duration(sec=0, nanosec=100000000)\n",
    "        trajectory.points.append(point)\n",
    "        self.move_arm(trajectory)\n",
    "               \n"
   ]
  },
  {
   "cell_type": "code",
   "execution_count": null,
   "id": "4b7d21e1-4276-4c17-b702-2de59e71e45e",
   "metadata": {},
   "outputs": [],
   "source": [
    " "
   ]
  },
  {
   "cell_type": "markdown",
   "id": "490b31aa-34f4-4ce6-bbf2-ea2f8a74be94",
   "metadata": {},
   "source": [
    "And a sample code"
   ]
  },
  {
   "cell_type": "code",
   "execution_count": null,
   "id": "52c65ae7-8bd4-4d94-81da-4002ee47acb7",
   "metadata": {},
   "outputs": [],
   "source": [
    "import rclpy\n",
    "from Joints import Joints\n",
    "import time\n",
    "\n",
    "rclpy.init()\n",
    "j = Joints()\n",
    "print(j.read())\n",
    "j.move_once([0,0,0,0,0,0])\n",
    "while not j.done:\n",
    "    time.sleep(1)\n",
    "rclpy.shutdown()"
   ]
  },
  {
   "cell_type": "code",
   "execution_count": 5,
   "id": "7c3ff8d9-9e6d-4114-bcd8-8ef69f75adbb",
   "metadata": {},
   "outputs": [
    {
     "name": "stdout",
     "output_type": "stream",
     "text": [
      "2\n"
     ]
    }
   ],
   "source": [
    "f = [[0,2,2],[1,3,5]]\n",
    "print(len(f))\n"
   ]
  },
  {
   "cell_type": "code",
   "execution_count": 3,
   "id": "75eb50ab-aa45-4397-bc16-9e913aa34058",
   "metadata": {},
   "outputs": [
    {
     "name": "stdout",
     "output_type": "stream",
     "text": [
      "5\n"
     ]
    }
   ],
   "source": [
    "print(int(5.6))"
   ]
  }
 ],
 "metadata": {
  "kernelspec": {
   "display_name": "Python 3 (ipykernel)",
   "language": "python",
   "name": "python3"
  },
  "language_info": {
   "codemirror_mode": {
    "name": "ipython",
    "version": 3
   },
   "file_extension": ".py",
   "mimetype": "text/x-python",
   "name": "python",
   "nbconvert_exporter": "python",
   "pygments_lexer": "ipython3",
   "version": "3.13.0"
  }
 },
 "nbformat": 4,
 "nbformat_minor": 5
}
