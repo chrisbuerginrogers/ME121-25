{
 "cells": [
  {
   "cell_type": "markdown",
   "id": "5237f387-c066-4a7b-95a6-147f6927d6ca",
   "metadata": {},
   "source": [
    "# ME121: A Day with the UR3\n",
    "This will contain all sorts of interesting things\n"
   ]
  },
  {
   "cell_type": "markdown",
   "id": "09571359-8b2f-4d82-a33a-18ecce915063",
   "metadata": {},
   "source": [
    "### Step 1: Starting ROS on the computer (only I do this)"
   ]
  },
  {
   "cell_type": "code",
   "execution_count": null,
   "id": "c54d66f7-377f-4daf-af1e-1d1ca9c47e48",
   "metadata": {},
   "outputs": [],
   "source": [
    "launch_ur --ip \"130.64.17.95\"\n",
    "launch_gripper --ip \"130.64.17.95\""
   ]
  },
  {
   "cell_type": "markdown",
   "id": "c1e61e81-956f-4f1c-b41d-4c8ca53edd11",
   "metadata": {},
   "source": [
    "### Configuring your UR Arm Account\n"
   ]
  },
  {
   "cell_type": "markdown",
   "id": "45599dff-8c5d-4ad4-9a20-27ea7c41f064",
   "metadata": {},
   "source": [
    "The first time you do anything you need to configure your UR Arm account properly.  That means after logging into 130.64.17.122, you will need to load some libraries.\n",
    "1. Clone this repository to your local machine:\n",
    "```bash\n",
    "git clone https://github.com/tuftsceeo/Universal-Robots-ROS2-CEEO\n",
    "```\n",
    "2. Install the myur python package and all dependencies:\n",
    "```bash\n",
    "cd Universal-Robots-ROS2-CEEO\n",
    "pip install -e .\n",
    "```\n",
    "3. Add the install directory to your shell's PATH list:\n",
    "```bash\n",
    "export PATH=\"$HOME/.local/bin:$PATH\"\n",
    "source ~/.bashrc\n",
    "```\n",
    "4. and then go to the top folder and clone our class\n",
    "```bash\n",
    "git clone https://github.com/chrisbuerginrogers/ME121-25\n",
    "```"
   ]
  },
  {
   "cell_type": "markdown",
   "id": "19d7063d-df7c-4698-bf76-8534316c0460",
   "metadata": {},
   "source": [
    "### Testing your configuration\n",
    "You can test with some simple terminal commands (or in a Notebook page with the exclamation point at the beginning)"
   ]
  },
  {
   "cell_type": "code",
   "execution_count": 1,
   "id": "68862900-3910-4ca5-b990-a372e833029d",
   "metadata": {},
   "outputs": [
    {
     "name": "stdout",
     "output_type": "stream",
     "text": [
      "zsh:1: command not found: ros2\n"
     ]
    }
   ],
   "source": [
    "!ros2 topic list"
   ]
  },
  {
   "cell_type": "markdown",
   "id": "9fed9815-dbe4-4418-b12d-26fa39bfdc34",
   "metadata": {},
   "source": [
    "You should see things like joints etc.  You can subscribe to a joint with\n"
   ]
  },
  {
   "cell_type": "code",
   "execution_count": null,
   "id": "66ea9abe-f4ad-47a3-aeb1-c33418870974",
   "metadata": {},
   "outputs": [],
   "source": [
    "!ros2 topic echo /joint_states"
   ]
  },
  {
   "cell_type": "markdown",
   "id": "3b64e25d-c45d-4c82-a203-cb1fd9152977",
   "metadata": {},
   "source": [
    "<img src=https://raw.githubusercontent.com/tuftsceeo/Universal-Robots-ROS2-CEEO/6d0b88f86543e63ce5a9f9999cb61271c0f339b7/examples/img/ur3e_diagram.png alt=\"Alt Text\" width = 200px>"
   ]
  },
  {
   "cell_type": "code",
   "execution_count": null,
   "id": "ee0ccc2f-0328-4f3f-9ba4-46b5a9794377",
   "metadata": {},
   "outputs": [],
   "source": []
  }
 ],
 "metadata": {
  "kernelspec": {
   "display_name": "Python 3 (ipykernel)",
   "language": "python",
   "name": "python3"
  },
  "language_info": {
   "codemirror_mode": {
    "name": "ipython",
    "version": 3
   },
   "file_extension": ".py",
   "mimetype": "text/x-python",
   "name": "python",
   "nbconvert_exporter": "python",
   "pygments_lexer": "ipython3",
   "version": "3.13.0"
  }
 },
 "nbformat": 4,
 "nbformat_minor": 5
}
