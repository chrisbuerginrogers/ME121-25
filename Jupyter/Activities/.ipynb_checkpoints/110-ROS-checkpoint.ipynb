{
 "cells": [
  {
   "cell_type": "markdown",
   "id": "7f607b8d-df12-4d68-ab28-ce8a749e8739",
   "metadata": {
    "tags": []
   },
   "source": [
    "# Writing ROS commands in python"
   ]
  },
  {
   "cell_type": "markdown",
   "id": "dfdab2b9-725f-4b31-9a02-1cb01d456baa",
   "metadata": {},
   "source": [
    "For those totally new to ROS and want to learn a lot more, there are a number of great online courses (for instance [this](https://docs.ros.org/en/foxy/Tutorials.html)).  How do you start ROS from scratch?  I found the easiest way was to start with publishers and subscribers.  "
   ]
  },
  {
   "cell_type": "markdown",
   "id": "57e1e5ec-7803-4bf3-a588-beebfc2c5c63",
   "metadata": {},
   "source": [
    "<h4>Publish and Subscribe</h4>"
   ]
  },
  {
   "cell_type": "markdown",
   "id": "889ad7b0-e215-4a37-91e5-e5aaf1db36e3",
   "metadata": {},
   "source": [
    "One of the most commmon ways of communicating is by either telling the robot what to do (publishing) or listening to the robot (subscribing). Publishing to a topic happens on uniform time intervals (that you set) and subscribing happens whenever something is published. Multiple nodes (computers, robots, etc) can publish to the same topic and multiple nodes can subscribe. See an animation of them here.  Grabbing the example code from the [ROS tutorials](https://docs.ros.org/en/galactic/Tutorials/Beginner-Client-Libraries/Writing-A-Simple-Py-Publisher-And-Subscriber.html), we can set up a topic that \"chatters\" and we can also subscribe to it. To do this, we are going to have to set up two separate kernels (or threads) - one that is running the publisher and one that is running the subscriber.  We can do that with two different notebooks - [publisher](111-ROS_Publisher.ipynb) and [subscriber](112-ROS_Subscriber.ipynb). Open them as two separate windows side by side and you can see them talking with each other."
   ]
  },
  {
   "cell_type": "markdown",
   "id": "26788ea1",
   "metadata": {},
   "source": [
    "<h4>Services</h4>"
   ]
  },
  {
   "cell_type": "markdown",
   "id": "78af8998-d09b-4966-a00e-a987c389fbf8",
   "metadata": {},
   "source": [
    "A service is something where you want immediate feedback from the robot - and you really only want it once. Actions are similar, but they usually take a while (like moving the arm). So with actions, you set a goal and then when the goal is done, the action will execute a callback (an \"I am Done\" function). There is a nice animation of services  [here](https://docs.ros.org/en/galactic/Tutorials/Beginner-CLI-Tools/Understanding-ROS2-Services/Understanding-ROS2-Services.html) and actions [here](https://docs.ros.org/en/galactic/Tutorials/Beginner-CLI-Tools/Understanding-ROS2-Actions/Understanding-ROS2-Actions.html).  We will not really be using services in this class - but again you can grab the example code from the [ROS tutorials](https://docs.ros.org/en/galactic/Tutorials/Beginner-Client-Libraries/Writing-A-Simple-Py-Publisher-And-Subscriber.html), and set up a simple service that answers a question and then query it. I have an example that works [here](113-ROS_Service_setup.ipynb)."
   ]
  },
  {
   "cell_type": "markdown",
   "id": "2bd179d4-5ca2-4961-a279-214c729b34d7",
   "metadata": {},
   "source": [
    "<h4>Actions</h4>"
   ]
  },
  {
   "cell_type": "markdown",
   "id": "fbe09be4-0aa0-4329-9b43-5dd16465efee",
   "metadata": {},
   "source": [
    "Finally, we will be using a few actions - but only the client side.  If you write the server side (what iRobot wrote for the Create), then you have to make a package - as with services.  I wrote up a simple example [here](115-ROS_action_definition.ipynb)"
   ]
  },
  {
   "cell_type": "markdown",
   "id": "a9262968-5660-41b0-a3c4-2d19e58f51d5",
   "metadata": {},
   "source": [
    "<h4>The Kitchen Sink</h4>"
   ]
  },
  {
   "cell_type": "markdown",
   "id": "9441400c-83b2-42f0-82f1-eca3e44da53e",
   "metadata": {},
   "source": [
    "Now you can combine them all together to do something stupendus."
   ]
  },
  {
   "cell_type": "markdown",
   "id": "ca9c9515-2b85-48bb-812c-6d58d8d4e5ac",
   "metadata": {},
   "source": [
    "<h4>More stuff</h4>\n",
    "There are also parameters (things you can set on the environment or the robot) and packages (a collection of tools for talking to a node)."
   ]
  },
  {
   "cell_type": "code",
   "execution_count": null,
   "id": "bd8b0766-394d-4079-adba-b7f7f08a1aa5",
   "metadata": {},
   "outputs": [],
   "source": []
  }
 ],
 "metadata": {
  "kernelspec": {
   "display_name": "Python 3 (ipykernel)",
   "language": "python",
   "name": "python3"
  },
  "language_info": {
   "codemirror_mode": {
    "name": "ipython",
    "version": 3
   },
   "file_extension": ".py",
   "mimetype": "text/x-python",
   "name": "python",
   "nbconvert_exporter": "python",
   "pygments_lexer": "ipython3",
   "version": "3.13.0"
  }
 },
 "nbformat": 4,
 "nbformat_minor": 5
}
